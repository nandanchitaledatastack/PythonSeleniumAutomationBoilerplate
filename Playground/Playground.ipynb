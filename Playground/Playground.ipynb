{
 "cells": [
  {
   "cell_type": "code",
   "execution_count": 1,
   "metadata": {},
   "outputs": [],
   "source": [
    "import pandas as pd\n",
    "from icecream import ic"
   ]
  },
  {
   "cell_type": "code",
   "execution_count": 2,
   "metadata": {},
   "outputs": [],
   "source": [
    "# class LoginElements:\n",
    "#     def __init__(self, par_element, par_type, par_id, par_name, par_class, par_xpath, par_value) -> None:\n",
    "#         self.v_element = par_element\n",
    "#         self.v_type = par_type\n",
    "#         self.v_id = par_id\n",
    "#         self.v_name = par_name\n",
    "#         self.v_class = par_class\n",
    "#         self.v_xpath = par_xpath\n",
    "#         self.v_value = par_value\n",
    "\n",
    "#     def getElements(self):\n",
    "#         return {\n",
    "#             \"element\": self.v_element,\n",
    "#             \"type\": self.v_type,\n",
    "#             \"id\": self.v_id,\n",
    "#             \"name\": self.v_name,\n",
    "#             \"class\": self.v_class,\n",
    "#             \"xpath\": self.v_xpath,\n",
    "#             \"value\": self.v_value,\n",
    "#         }\n",
    "\n",
    "class LoginElements:\n",
    "    def __init__(self):\n",
    "        self.v_element = None\n",
    "        self.v_type = None\n",
    "        self.v_id = None\n",
    "        self.v_name = None\n",
    "        self.v_class = None\n",
    "        self.v_xpath = None\n",
    "        self.v_value = None"
   ]
  },
  {
   "cell_type": "code",
   "execution_count": 3,
   "metadata": {},
   "outputs": [],
   "source": [
    "input_data = pd.read_excel(\"../Input/InputData.xlsx\", sheet_name=\"Login\")"
   ]
  },
  {
   "cell_type": "code",
   "execution_count": 4,
   "metadata": {},
   "outputs": [],
   "source": [
    "input_data = input_data[input_data.is_input == 'Y']"
   ]
  },
  {
   "cell_type": "code",
   "execution_count": 5,
   "metadata": {},
   "outputs": [
    {
     "name": "stderr",
     "output_type": "stream",
     "text": [
      "ic| input_data:     element      type  id      name  class                           xpath  \\\n",
      "                1  username      text NaN  username    NaN  //form/input[@name=\"username\"]   \n",
      "                2  password  password NaN  password    NaN  //form/input[@name=\"password\"]   \n",
      "                3    submit    submit NaN       NaN    NaN    //form/input[@type=\"submit\"]   \n",
      "                \n",
      "                      value is_input  \n",
      "                1  demouser        Y  \n",
      "                2      1234        Y  \n",
      "                3     login        Y  \n"
     ]
    },
    {
     "data": {
      "text/html": [
       "<div>\n",
       "<style scoped>\n",
       "    .dataframe tbody tr th:only-of-type {\n",
       "        vertical-align: middle;\n",
       "    }\n",
       "\n",
       "    .dataframe tbody tr th {\n",
       "        vertical-align: top;\n",
       "    }\n",
       "\n",
       "    .dataframe thead th {\n",
       "        text-align: right;\n",
       "    }\n",
       "</style>\n",
       "<table border=\"1\" class=\"dataframe\">\n",
       "  <thead>\n",
       "    <tr style=\"text-align: right;\">\n",
       "      <th></th>\n",
       "      <th>element</th>\n",
       "      <th>type</th>\n",
       "      <th>id</th>\n",
       "      <th>name</th>\n",
       "      <th>class</th>\n",
       "      <th>xpath</th>\n",
       "      <th>value</th>\n",
       "      <th>is_input</th>\n",
       "    </tr>\n",
       "  </thead>\n",
       "  <tbody>\n",
       "    <tr>\n",
       "      <th>1</th>\n",
       "      <td>username</td>\n",
       "      <td>text</td>\n",
       "      <td>NaN</td>\n",
       "      <td>username</td>\n",
       "      <td>NaN</td>\n",
       "      <td>//form/input[@name=\"username\"]</td>\n",
       "      <td>demouser</td>\n",
       "      <td>Y</td>\n",
       "    </tr>\n",
       "    <tr>\n",
       "      <th>2</th>\n",
       "      <td>password</td>\n",
       "      <td>password</td>\n",
       "      <td>NaN</td>\n",
       "      <td>password</td>\n",
       "      <td>NaN</td>\n",
       "      <td>//form/input[@name=\"password\"]</td>\n",
       "      <td>1234</td>\n",
       "      <td>Y</td>\n",
       "    </tr>\n",
       "    <tr>\n",
       "      <th>3</th>\n",
       "      <td>submit</td>\n",
       "      <td>submit</td>\n",
       "      <td>NaN</td>\n",
       "      <td>NaN</td>\n",
       "      <td>NaN</td>\n",
       "      <td>//form/input[@type=\"submit\"]</td>\n",
       "      <td>login</td>\n",
       "      <td>Y</td>\n",
       "    </tr>\n",
       "  </tbody>\n",
       "</table>\n",
       "</div>"
      ],
      "text/plain": [
       "    element      type  id      name  class                           xpath  \\\n",
       "1  username      text NaN  username    NaN  //form/input[@name=\"username\"]   \n",
       "2  password  password NaN  password    NaN  //form/input[@name=\"password\"]   \n",
       "3    submit    submit NaN       NaN    NaN    //form/input[@type=\"submit\"]   \n",
       "\n",
       "      value is_input  \n",
       "1  demouser        Y  \n",
       "2      1234        Y  \n",
       "3     login        Y  "
      ]
     },
     "execution_count": 5,
     "metadata": {},
     "output_type": "execute_result"
    }
   ],
   "source": [
    "ic(input_data)"
   ]
  },
  {
   "cell_type": "code",
   "execution_count": 9,
   "metadata": {},
   "outputs": [
    {
     "name": "stdout",
     "output_type": "stream",
     "text": [
      "username\n",
      "password\n",
      "submit\n"
     ]
    }
   ],
   "source": [
    "for index, row in input_data.iterrows():\n",
    "    print(row['element'])"
   ]
  },
  {
   "cell_type": "code",
   "execution_count": 7,
   "metadata": {},
   "outputs": [
    {
     "ename": "TypeError",
     "evalue": "tuple indices must be integers or slices, not str",
     "output_type": "error",
     "traceback": [
      "\u001b[1;31m---------------------------------------------------------------------------\u001b[0m",
      "\u001b[1;31mTypeError\u001b[0m                                 Traceback (most recent call last)",
      "\u001b[1;32mc:\\Users\\nandan.chitale\\Documents\\Projects\\R&D\\Specflow Selenium Automation\\JEDI_SELENIUM_PYTHON_AUTOMATION\\Playground\\Playground.ipynb Cell 7\u001b[0m line \u001b[0;36m4\n\u001b[0;32m      <a href='vscode-notebook-cell:/c%3A/Users/nandan.chitale/Documents/Projects/R%26D/Specflow%20Selenium%20Automation/JEDI_SELENIUM_PYTHON_AUTOMATION/Playground/Playground.ipynb#W6sZmlsZQ%3D%3D?line=0'>1</a>\u001b[0m input_element_list \u001b[39m=\u001b[39m []\n\u001b[0;32m      <a href='vscode-notebook-cell:/c%3A/Users/nandan.chitale/Documents/Projects/R%26D/Specflow%20Selenium%20Automation/JEDI_SELENIUM_PYTHON_AUTOMATION/Playground/Playground.ipynb#W6sZmlsZQ%3D%3D?line=2'>3</a>\u001b[0m \u001b[39mfor\u001b[39;00m row \u001b[39min\u001b[39;00m \u001b[39menumerate\u001b[39m(input_data):\n\u001b[1;32m----> <a href='vscode-notebook-cell:/c%3A/Users/nandan.chitale/Documents/Projects/R%26D/Specflow%20Selenium%20Automation/JEDI_SELENIUM_PYTHON_AUTOMATION/Playground/Playground.ipynb#W6sZmlsZQ%3D%3D?line=3'>4</a>\u001b[0m     \u001b[39mif\u001b[39;00m row[\u001b[39m'\u001b[39;49m\u001b[39mis_input\u001b[39;49m\u001b[39m'\u001b[39;49m] \u001b[39m==\u001b[39m \u001b[39m'\u001b[39m\u001b[39mY\u001b[39m\u001b[39m'\u001b[39m:\n\u001b[0;32m      <a href='vscode-notebook-cell:/c%3A/Users/nandan.chitale/Documents/Projects/R%26D/Specflow%20Selenium%20Automation/JEDI_SELENIUM_PYTHON_AUTOMATION/Playground/Playground.ipynb#W6sZmlsZQ%3D%3D?line=5'>6</a>\u001b[0m         ic(row[\u001b[39m'\u001b[39m\u001b[39melement\u001b[39m\u001b[39m'\u001b[39m])\n\u001b[0;32m      <a href='vscode-notebook-cell:/c%3A/Users/nandan.chitale/Documents/Projects/R%26D/Specflow%20Selenium%20Automation/JEDI_SELENIUM_PYTHON_AUTOMATION/Playground/Playground.ipynb#W6sZmlsZQ%3D%3D?line=6'>7</a>\u001b[0m         ic(\u001b[39mtype\u001b[39m(row[\u001b[39m'\u001b[39m\u001b[39melement\u001b[39m\u001b[39m'\u001b[39m]))\n",
      "\u001b[1;31mTypeError\u001b[0m: tuple indices must be integers or slices, not str"
     ]
    }
   ],
   "source": [
    "input_element_list = []\n",
    "\n",
    "for row in enumerate(input_data):\n",
    "    if row['is_input'] == 'Y':\n",
    "\n",
    "        ic(row['element'])\n",
    "        ic(type(row['element']))\n",
    "\n",
    "        loginElement = LoginElements()\n",
    "        loginElement.v_element = row['element'],\n",
    "        loginElement.v_type = row['type'],\n",
    "        loginElement.v_id = row['id'],\n",
    "        loginElement.v_name = row['name'],\n",
    "        loginElement.v_class = row['class'],\n",
    "        loginElement.v_xpath = row['xpath'],\n",
    "        loginElement.v_value =  row['value']\n",
    "        \n",
    "        input_element_list.append(loginElement)"
   ]
  },
  {
   "cell_type": "code",
   "execution_count": null,
   "metadata": {},
   "outputs": [
    {
     "name": "stdout",
     "output_type": "stream",
     "text": [
      "username\n",
      "password\n",
      "submit\n"
     ]
    }
   ],
   "source": [
    "for element in input_element_list:\n",
    "    print(element.v_element[0])"
   ]
  },
  {
   "cell_type": "code",
   "execution_count": 10,
   "metadata": {},
   "outputs": [],
   "source": [
    "excel_data = pd.read_excel(\"../Input/InputData.xlsx\", sheet_name=\"Config\")"
   ]
  },
  {
   "cell_type": "code",
   "execution_count": 14,
   "metadata": {},
   "outputs": [
    {
     "name": "stdout",
     "output_type": "stream",
     "text": [
      "login\n"
     ]
    }
   ],
   "source": [
    "for index, row in excel_data.iterrows():\n",
    "    print(row['Module'])"
   ]
  },
  {
   "cell_type": "code",
   "execution_count": 1,
   "metadata": {},
   "outputs": [],
   "source": [
    "class UserFormElements:\n",
    "    USERFORM = \"userform\"\n",
    "    BUSINESS_NAME = \"businessName\"\n",
    "    FIRST_NAME = \"firstName\"\n",
    "    MIDDLE_NAME = \"middleName\"\n",
    "    LAST_NAME = \"lastName\"\n",
    "    STREET = \"street\"\n",
    "    CITY = \"city\"\n",
    "    STATE = \"state\"\n",
    "    POSTAL_CODE = \"postalCode\"\n",
    "    COUNTRY = \"country\"\n",
    "    SUBMIT = \"submit\""
   ]
  },
  {
   "cell_type": "code",
   "execution_count": 6,
   "metadata": {},
   "outputs": [
    {
     "name": "stdout",
     "output_type": "stream",
     "text": [
      "__module__\n",
      "USERFORM\n",
      "BUSINESS_NAME\n",
      "FIRST_NAME\n",
      "MIDDLE_NAME\n",
      "LAST_NAME\n",
      "STREET\n",
      "CITY\n",
      "STATE\n",
      "POSTAL_CODE\n",
      "COUNTRY\n",
      "SUBMIT\n",
      "__dict__\n",
      "__weakref__\n",
      "__doc__\n"
     ]
    }
   ],
   "source": [
    "userelements = UserFormElements.__dict__\n",
    "\n",
    "for element in userelements:\n",
    "    print(element)"
   ]
  }
 ],
 "metadata": {
  "kernelspec": {
   "display_name": "env",
   "language": "python",
   "name": "python3"
  },
  "language_info": {
   "codemirror_mode": {
    "name": "ipython",
    "version": 3
   },
   "file_extension": ".py",
   "mimetype": "text/x-python",
   "name": "python",
   "nbconvert_exporter": "python",
   "pygments_lexer": "ipython3",
   "version": "3.10.11"
  },
  "orig_nbformat": 4
 },
 "nbformat": 4,
 "nbformat_minor": 2
}
